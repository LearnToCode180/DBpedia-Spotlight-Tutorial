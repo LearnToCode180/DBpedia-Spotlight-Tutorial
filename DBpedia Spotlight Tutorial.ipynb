{
 "cells": [
  {
   "cell_type": "code",
   "execution_count": 1,
   "metadata": {},
   "outputs": [],
   "source": [
    "text = \"\"\"The Semantic Web, sometimes known as Web 3.0 (not to be confused with Web3), is an extension of the World Wide Web through standards set by the World Wide Web \n",
    "Consortium (W3C). The goal of the Semantic Web is to make Internet data machine-readable.\n",
    "To enable the encoding of semantics with the data, technologies such as Resource Description Framework (RDF) and Web Ontology Language (OWL) are used. \n",
    "These technologies are used to formally represent metadata. For example, ontology can describe concepts, relationships between entities, and categories of things. \n",
    "These embedded semantics offer significant advantages such as reasoning over data and operating with heterogeneous data sources.\"\"\""
   ]
  },
  {
   "cell_type": "code",
   "execution_count": 2,
   "metadata": {},
   "outputs": [],
   "source": [
    "import requests\n",
    "\n",
    "result = requests.post(\"http://localhost:2223/rest/annotate\", data=\"text=Barack Obama was the president of the United States\", headers={\"Accept\": \"application/json\"})"
   ]
  },
  {
   "cell_type": "code",
   "execution_count": 3,
   "metadata": {},
   "outputs": [
    {
     "data": {
      "text/plain": [
       "<Response [200]>"
      ]
     },
     "execution_count": 3,
     "metadata": {},
     "output_type": "execute_result"
    }
   ],
   "source": [
    "result"
   ]
  },
  {
   "cell_type": "code",
   "execution_count": 4,
   "metadata": {},
   "outputs": [
    {
     "data": {
      "text/plain": [
       "{'@text': 'Barack Obama was the president of the United States',\n",
       " '@confidence': '0.5',\n",
       " '@support': '0',\n",
       " '@types': '',\n",
       " '@sparql': '',\n",
       " '@policy': 'whitelist',\n",
       " 'Resources': [{'@URI': 'http://dbpedia.org/resource/Barack_Obama',\n",
       "   '@support': '28423',\n",
       "   '@types': 'Http://xmlns.com/foaf/0.1/Person,Wikidata:Q82955,Wikidata:Q729,Wikidata:Q5,Wikidata:Q215627,Wikidata:Q19088,DUL:NaturalPerson,Schema:Person,DBpedia:Species,DBpedia:Person,DBpedia:Eukaryote,DBpedia:Animal,DBpedia:Politician',\n",
       "   '@surfaceForm': 'Barack Obama',\n",
       "   '@offset': '0',\n",
       "   '@similarityScore': '0.99996873173175',\n",
       "   '@percentageOfSecondRank': '1.485152359637468E-5'},\n",
       "  {'@URI': 'http://dbpedia.org/resource/United_States',\n",
       "   '@support': '468823',\n",
       "   '@types': 'Wikidata:Q6256,Schema:Place,Schema:Country,DBpedia:PopulatedPlace,DBpedia:Place,DBpedia:Location,DBpedia:Country',\n",
       "   '@surfaceForm': 'United States',\n",
       "   '@offset': '38',\n",
       "   '@similarityScore': '0.999784144780593',\n",
       "   '@percentageOfSecondRank': '1.3617315172363283E-4'}]}"
      ]
     },
     "execution_count": 4,
     "metadata": {},
     "output_type": "execute_result"
    }
   ],
   "source": [
    "import json\n",
    "json.loads(result.text)"
   ]
  },
  {
   "cell_type": "code",
   "execution_count": 5,
   "metadata": {},
   "outputs": [
    {
     "data": {
      "text/plain": [
       "6"
      ]
     },
     "execution_count": 5,
     "metadata": {},
     "output_type": "execute_result"
    }
   ],
   "source": [
    "from nltk.tokenize import sent_tokenize\n",
    "\n",
    "sentences = sent_tokenize(text)\n",
    "\n",
    "len(sentences)"
   ]
  },
  {
   "cell_type": "code",
   "execution_count": 8,
   "metadata": {},
   "outputs": [],
   "source": [
    "results = []\n",
    "len_sen = 0\n",
    "for sen in sentences:\n",
    "    results.append((requests.post(\"http://localhost:2223/rest/annotate\", data=\"text=\" + sen, headers={\"Accept\": \"application/json\"}), len_sen))\n",
    "    len_sen += len(sen)"
   ]
  },
  {
   "cell_type": "code",
   "execution_count": 10,
   "metadata": {},
   "outputs": [
    {
     "data": {
      "text/plain": [
       "'{\"@text\":\"These technologies are used to formally represent metadata.\",\"@confidence\":\"0.5\",\"@support\":\"0\",\"@types\":\"\",\"@sparql\":\"\",\"@policy\":\"whitelist\",\"Resources\":[{\"@URI\":\"http://dbpedia.org/resource/Metadata\",\"@support\":\"4697\",\"@types\":\"\",\"@surfaceForm\":\"metadata\",\"@offset\":\"50\",\"@similarityScore\":\"0.9999931626148548\",\"@percentageOfSecondRank\":\"3.5285671842322437E-6\"}]}'"
      ]
     },
     "execution_count": 10,
     "metadata": {},
     "output_type": "execute_result"
    }
   ],
   "source": [
    "results[3][0].text"
   ]
  },
  {
   "cell_type": "code",
   "execution_count": 11,
   "metadata": {},
   "outputs": [
    {
     "data": {
      "text/plain": [
       "'ent meta'"
      ]
     },
     "execution_count": 11,
     "metadata": {},
     "output_type": "execute_result"
    }
   ],
   "source": [
    "text[50+results[3][1]:58+results[3][1]]"
   ]
  },
  {
   "cell_type": "code",
   "execution_count": 14,
   "metadata": {},
   "outputs": [],
   "source": [
    "from nltk.tokenize.punkt import PunktSentenceTokenizer\n",
    "\n",
    "sen_offsets = []\n",
    "\n",
    "for start, end in PunktSentenceTokenizer().span_tokenize(text):\n",
    "    sen_offsets.append((start, end))"
   ]
  },
  {
   "cell_type": "code",
   "execution_count": 15,
   "metadata": {},
   "outputs": [],
   "source": [
    "results_2 = []\n",
    "\n",
    "for offset in sen_offsets:\n",
    "    results_2.append((requests.post(\"http://localhost:2223/rest/annotate\", data=\"text=\" + text[offset[0]:offset[1]], headers={\"Accept\": \"application/json\"}), offset[0]))"
   ]
  },
  {
   "cell_type": "code",
   "execution_count": 16,
   "metadata": {},
   "outputs": [
    {
     "data": {
      "text/plain": [
       "(<Response [200]>, 402)"
      ]
     },
     "execution_count": 16,
     "metadata": {},
     "output_type": "execute_result"
    }
   ],
   "source": [
    "results_2[3]"
   ]
  },
  {
   "cell_type": "code",
   "execution_count": 17,
   "metadata": {},
   "outputs": [
    {
     "data": {
      "text/plain": [
       "'{\"@text\":\"The goal of the Semantic Web is to make Internet data machine-readable.\",\"@confidence\":\"0.5\",\"@support\":\"0\",\"@types\":\"\",\"@sparql\":\"\",\"@policy\":\"whitelist\",\"Resources\":[{\"@URI\":\"http://dbpedia.org/resource/Semantic_Web\",\"@support\":\"949\",\"@types\":\"\",\"@surfaceForm\":\"Semantic Web\",\"@offset\":\"16\",\"@similarityScore\":\"0.9999999999997442\",\"@percentageOfSecondRank\":\"2.508075182659647E-13\"},{\"@URI\":\"http://dbpedia.org/resource/Internet\",\"@support\":\"31775\",\"@types\":\"\",\"@surfaceForm\":\"Internet\",\"@offset\":\"40\",\"@similarityScore\":\"0.9998837214983619\",\"@percentageOfSecondRank\":\"4.836831675667598E-5\"},{\"@URI\":\"http://dbpedia.org/resource/Machine-readable_data\",\"@support\":\"139\",\"@types\":\"\",\"@surfaceForm\":\"machine-readable\",\"@offset\":\"54\",\"@similarityScore\":\"0.9999425826464632\",\"@percentageOfSecondRank\":\"4.5397267845539746E-5\"}]}'"
      ]
     },
     "execution_count": 17,
     "metadata": {},
     "output_type": "execute_result"
    }
   ],
   "source": [
    "results_2[1][0].text"
   ]
  },
  {
   "cell_type": "code",
   "execution_count": 24,
   "metadata": {},
   "outputs": [],
   "source": [
    "outputs = [(json.loads(result[0].text), result[1]) for result in results_2 if result[0].text != \"\"]"
   ]
  },
  {
   "cell_type": "code",
   "execution_count": 25,
   "metadata": {},
   "outputs": [
    {
     "data": {
      "text/plain": [
       "({'@text': 'The Semantic Web, sometimes known as Web 3.0 (not to be confused with Web3), is an extension of the World Wide Web through standards set by the World Wide Web \\nConsortium (W3C).',\n",
       "  '@confidence': '0.5',\n",
       "  '@support': '0',\n",
       "  '@types': '',\n",
       "  '@sparql': '',\n",
       "  '@policy': 'whitelist',\n",
       "  'Resources': [{'@URI': 'http://dbpedia.org/resource/Semantic_Web',\n",
       "    '@support': '949',\n",
       "    '@types': '',\n",
       "    '@surfaceForm': 'Semantic Web',\n",
       "    '@offset': '4',\n",
       "    '@similarityScore': '1.0',\n",
       "    '@percentageOfSecondRank': '1.882965518287145E-19'},\n",
       "   {'@URI': 'http://dbpedia.org/resource/Semantic_Web',\n",
       "    '@support': '949',\n",
       "    '@types': '',\n",
       "    '@surfaceForm': 'Web 3.0',\n",
       "    '@offset': '37',\n",
       "    '@similarityScore': '0.9999999943622981',\n",
       "    '@percentageOfSecondRank': '5.636783315961742E-9'},\n",
       "   {'@URI': 'http://dbpedia.org/resource/Web3',\n",
       "    '@support': '144',\n",
       "    '@types': '',\n",
       "    '@surfaceForm': 'Web3',\n",
       "    '@offset': '70',\n",
       "    '@similarityScore': '0.9999999999946283',\n",
       "    '@percentageOfSecondRank': '0.0'},\n",
       "   {'@URI': 'http://dbpedia.org/resource/World_Wide_Web',\n",
       "    '@support': '5673',\n",
       "    '@types': '',\n",
       "    '@surfaceForm': 'World Wide Web',\n",
       "    '@offset': '100',\n",
       "    '@similarityScore': '0.9999999999995737',\n",
       "    '@percentageOfSecondRank': '4.309622271028848E-13'},\n",
       "   {'@URI': 'http://dbpedia.org/resource/World_Wide_Web',\n",
       "    '@support': '5673',\n",
       "    '@types': '',\n",
       "    '@surfaceForm': 'World Wide Web',\n",
       "    '@offset': '144',\n",
       "    '@similarityScore': '0.9999999999995737',\n",
       "    '@percentageOfSecondRank': '4.309622271028848E-13'},\n",
       "   {'@URI': 'http://dbpedia.org/resource/World_Wide_Web_Consortium',\n",
       "    '@support': '2243',\n",
       "    '@types': '',\n",
       "    '@surfaceForm': 'W3C',\n",
       "    '@offset': '172',\n",
       "    '@similarityScore': '0.9999999991633217',\n",
       "    '@percentageOfSecondRank': '8.366813679062669E-10'}]},\n",
       " 0)"
      ]
     },
     "execution_count": 25,
     "metadata": {},
     "output_type": "execute_result"
    }
   ],
   "source": [
    "outputs[0]"
   ]
  },
  {
   "cell_type": "code",
   "execution_count": 27,
   "metadata": {},
   "outputs": [],
   "source": [
    "sp_offsets = []\n",
    "for output in outputs:\n",
    "    if 'Resources' in output[0].keys():\n",
    "        for res in output[0]['Resources']:\n",
    "            sp_offsets.append((\n",
    "                res['@surfaceForm'],\n",
    "                int(res['@offset']) + output[1],\n",
    "                int(res['@offset']) + output[1] + len(res['@surfaceForm']),\n",
    "                res['@URI']\n",
    "            ))"
   ]
  },
  {
   "cell_type": "code",
   "execution_count": 28,
   "metadata": {},
   "outputs": [
    {
     "data": {
      "text/plain": [
       "('World Wide Web', 100, 114, 'http://dbpedia.org/resource/World_Wide_Web')"
      ]
     },
     "execution_count": 28,
     "metadata": {},
     "output_type": "execute_result"
    }
   ],
   "source": [
    "sp_offsets[3]"
   ]
  },
  {
   "cell_type": "code",
   "execution_count": 29,
   "metadata": {},
   "outputs": [
    {
     "data": {
      "text/plain": [
       "'World Wide Web'"
      ]
     },
     "execution_count": 29,
     "metadata": {},
     "output_type": "execute_result"
    }
   ],
   "source": [
    "text[100:114]"
   ]
  }
 ],
 "metadata": {
  "kernelspec": {
   "display_name": "Python 3.9.7 ('base')",
   "language": "python",
   "name": "python3"
  },
  "language_info": {
   "codemirror_mode": {
    "name": "ipython",
    "version": 3
   },
   "file_extension": ".py",
   "mimetype": "text/x-python",
   "name": "python",
   "nbconvert_exporter": "python",
   "pygments_lexer": "ipython3",
   "version": "3.9.7"
  },
  "orig_nbformat": 4,
  "vscode": {
   "interpreter": {
    "hash": "ce2665c828cadf88826a7c4b72219d2463d2835c9122540076c4da858c580ad1"
   }
  }
 },
 "nbformat": 4,
 "nbformat_minor": 2
}
